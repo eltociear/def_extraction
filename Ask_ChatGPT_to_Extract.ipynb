{
 "cells": [
  {
   "cell_type": "markdown",
   "id": "808318b2-aaf5-4092-ba77-c4895ddf4a2d",
   "metadata": {},
   "source": [
    "# **Ask ChatGPT for One-Shot Mathematical Definitum Extraction**"
   ]
  },
  {
   "cell_type": "code",
   "execution_count": 38,
   "id": "483e2533-7833-415e-99b0-e91ff866758f",
   "metadata": {},
   "outputs": [
    {
     "name": "stdout",
     "output_type": "stream",
     "text": [
      "Collecting openai\n",
      "  Downloading openai-0.27.9-py3-none-any.whl (75 kB)\n",
      "\u001b[2K     \u001b[38;2;114;156;31m━━━━━━━━━━━━━━━━━━━━━━━━━━━━━━━━━━━━━━━━\u001b[0m \u001b[32m75.5/75.5 kB\u001b[0m \u001b[31m6.1 MB/s\u001b[0m eta \u001b[36m0:00:00\u001b[0m\n",
      "\u001b[?25hCollecting aiohttp\n",
      "  Downloading aiohttp-3.8.5-cp38-cp38-manylinux_2_17_x86_64.manylinux2014_x86_64.whl (1.1 MB)\n",
      "\u001b[2K     \u001b[38;2;114;156;31m━━━━━━━━━━━━━━━━━━━━━━━━━━━━━━━━━━━━━━━━\u001b[0m \u001b[32m1.1/1.1 MB\u001b[0m \u001b[31m34.4 MB/s\u001b[0m eta \u001b[36m0:00:00\u001b[0m\n",
      "\u001b[?25hRequirement already satisfied: tqdm in /home/shufan/tools/anacnda3/lib/python3.8/site-packages (from openai) (4.64.1)\n",
      "Requirement already satisfied: requests>=2.20 in /home/shufan/tools/anacnda3/lib/python3.8/site-packages (from openai) (2.28.1)\n",
      "Requirement already satisfied: idna<4,>=2.5 in /home/shufan/tools/anacnda3/lib/python3.8/site-packages (from requests>=2.20->openai) (3.4)\n",
      "Requirement already satisfied: certifi>=2017.4.17 in /home/shufan/tools/anacnda3/lib/python3.8/site-packages (from requests>=2.20->openai) (2023.5.7)\n",
      "Requirement already satisfied: urllib3<1.27,>=1.21.1 in /home/shufan/tools/anacnda3/lib/python3.8/site-packages (from requests>=2.20->openai) (1.26.14)\n",
      "Requirement already satisfied: charset-normalizer<3,>=2 in /home/shufan/tools/anacnda3/lib/python3.8/site-packages (from requests>=2.20->openai) (2.0.4)\n",
      "Collecting async-timeout<5.0,>=4.0.0a3\n",
      "  Downloading async_timeout-4.0.3-py3-none-any.whl (5.7 kB)\n",
      "Collecting yarl<2.0,>=1.0\n",
      "  Downloading yarl-1.9.2-cp38-cp38-manylinux_2_17_x86_64.manylinux2014_x86_64.whl (266 kB)\n",
      "\u001b[2K     \u001b[38;2;114;156;31m━━━━━━━━━━━━━━━━━━━━━━━━━━━━━━━━━━━━━━\u001b[0m \u001b[32m266.9/266.9 kB\u001b[0m \u001b[31m39.8 MB/s\u001b[0m eta \u001b[36m0:00:00\u001b[0m\n",
      "\u001b[?25hRequirement already satisfied: attrs>=17.3.0 in /home/shufan/tools/anacnda3/lib/python3.8/site-packages (from aiohttp->openai) (22.1.0)\n",
      "Collecting aiosignal>=1.1.2\n",
      "  Downloading aiosignal-1.3.1-py3-none-any.whl (7.6 kB)\n",
      "Collecting frozenlist>=1.1.1\n",
      "  Downloading frozenlist-1.4.0-cp38-cp38-manylinux_2_5_x86_64.manylinux1_x86_64.manylinux_2_17_x86_64.manylinux2014_x86_64.whl (220 kB)\n",
      "\u001b[2K     \u001b[38;2;114;156;31m━━━━━━━━━━━━━━━━━━━━━━━━━━━━━━━━━━━━━━\u001b[0m \u001b[32m220.1/220.1 kB\u001b[0m \u001b[31m34.1 MB/s\u001b[0m eta \u001b[36m0:00:00\u001b[0m\n",
      "\u001b[?25hCollecting multidict<7.0,>=4.5\n",
      "  Downloading multidict-6.0.4-cp38-cp38-manylinux_2_17_x86_64.manylinux2014_x86_64.whl (121 kB)\n",
      "\u001b[2K     \u001b[38;2;114;156;31m━━━━━━━━━━━━━━━━━━━━━━━━━━━━━━━━━━━━━━\u001b[0m \u001b[32m121.3/121.3 kB\u001b[0m \u001b[31m18.0 MB/s\u001b[0m eta \u001b[36m0:00:00\u001b[0m\n",
      "\u001b[?25hInstalling collected packages: multidict, frozenlist, async-timeout, yarl, aiosignal, aiohttp, openai\n",
      "Successfully installed aiohttp-3.8.5 aiosignal-1.3.1 async-timeout-4.0.3 frozenlist-1.4.0 multidict-6.0.4 openai-0.27.9 yarl-1.9.2\n"
     ]
    }
   ],
   "source": [
    "#!pip install openai"
   ]
  },
  {
   "cell_type": "code",
   "execution_count": 1,
   "id": "629fca7d-6fbb-4dfc-9ace-70bd4c2faf54",
   "metadata": {},
   "outputs": [
    {
     "name": "stdout",
     "output_type": "stream",
     "text": [
      "cpu\n"
     ]
    }
   ],
   "source": [
    "import pandas as pd\n",
    "import numpy as np\n",
    "from sklearn.metrics import accuracy_score\n",
    "import torch\n",
    "from torch.utils.data import Dataset, DataLoader\n",
    "from transformers import pipeline, AutoModelForTokenClassification, get_cosine_schedule_with_warmup, AutoTokenizer\n",
    "from seqeval.metrics import classification_report\n",
    "import seaborn as sns\n",
    "import os\n",
    "import openai\n",
    "from torch import cuda\n",
    "device = 'cuda' if cuda.is_available() else 'cpu'\n",
    "print(device)"
   ]
  },
  {
   "cell_type": "code",
   "execution_count": 39,
   "id": "e2b16389-133e-457c-a2d7-8aab0b719fce",
   "metadata": {},
   "outputs": [],
   "source": []
  },
  {
   "cell_type": "markdown",
   "id": "4ac2ed08-2ccd-4038-96f3-8a695db67e45",
   "metadata": {
    "tags": []
   },
   "source": [
    "## Preprocessing the dataset\n",
    "\n",
    "Preliminary test shows that ChatGPT generated random IOB tags might not be aligned with the extracted terms.\n",
    "We decide to ask for the terms only. We evaluate later the precision (how many extracted terms are true) and recall(how many expected terms are extracted)."
   ]
  },
  {
   "cell_type": "code",
   "execution_count": 2,
   "id": "8b28c1d3-1bb1-446c-bca1-1597b9d1ea9f",
   "metadata": {},
   "outputs": [
    {
     "data": {
      "text/plain": [
       "13692"
      ]
     },
     "execution_count": 2,
     "metadata": {},
     "output_type": "execute_result"
    }
   ],
   "source": [
    "df = pd.read_csv(\"cleaned_plain-text_labeled_term+combined_no_ref_no_cit_def_same_len_only_must_conatin_B.csv\", delimiter=',')\n",
    "len(df)"
   ]
  },
  {
   "cell_type": "code",
   "execution_count": 3,
   "id": "88c1701b-87d2-4871-84f8-2fcaa7ff1412",
   "metadata": {},
   "outputs": [
    {
     "name": "stdout",
     "output_type": "stream",
     "text": [
      "average length =  70.69770669003798\n",
      "maximun length =  5266\n"
     ]
    }
   ],
   "source": [
    "all_texts = df['plain_text_def'].to_list()\n",
    "#check average tokenized sentence lenth\n",
    "all_text_lenlist = [len(e.split(' ')) for e in all_texts]\n",
    "print(\"average length = \", sum(all_text_lenlist) / len(all_text_lenlist))\n",
    "print(\"maximun length = \", max(all_text_lenlist))"
   ]
  },
  {
   "cell_type": "code",
   "execution_count": 4,
   "id": "586efc96-2c12-42fb-934b-5733ad3d2acb",
   "metadata": {},
   "outputs": [],
   "source": [
    "df['text_token_num']=all_text_lenlist"
   ]
  },
  {
   "cell_type": "code",
   "execution_count": 15,
   "id": "58b30b2d-1efd-4e4d-947a-52b919b06cf0",
   "metadata": {},
   "outputs": [
    {
     "data": {
      "image/png": "[encoded data removed]",
      "text/plain": [
       "<Figure size 500x500 with 1 Axes>"
      ]
     },
     "metadata": {},
     "output_type": "display_data"
    }
   ],
   "source": [
    "#check length distribution\n",
    "sns_dis = sns.displot(df['text_token_num'])\n",
    "sns_dis.savefig('all_text_len_dist.pdf')"
   ]
  },
  {
   "cell_type": "code",
   "execution_count": 16,
   "id": "18caedde-d3aa-472e-af36-cabea9f86624",
   "metadata": {},
   "outputs": [
    {
     "data": {
      "text/plain": [
       "13653"
      ]
     },
     "execution_count": 16,
     "metadata": {},
     "output_type": "execute_result"
    }
   ],
   "source": [
    "df499 = df[df['text_token_num'] <= 500]\n",
    "len(df499)"
   ]
  },
  {
   "cell_type": "code",
   "execution_count": 11,
   "id": "ea506da7-a32b-4c65-86bf-7f114744e484",
   "metadata": {},
   "outputs": [],
   "source": [
    "df499.to_csv('cleaned_plain-text_labeled_term+combined_no_ref_no_cit_def_same_len_only_must_conatin_B_less_than_500tokens.csv', index=False)"
   ]
  },
  {
   "cell_type": "code",
   "execution_count": 12,
   "id": "0088e4c4-72f7-46ad-b25b-c54cb044a3c9",
   "metadata": {},
   "outputs": [
    {
     "name": "stdout",
     "output_type": "stream",
     "text": [
      "average length =  67.62455138064894\n",
      "maximun length =  497\n"
     ]
    }
   ],
   "source": [
    "print(\"average length = \", sum(df499['text_token_num']) / len(df499['text_token_num']))\n",
    "print(\"maximun length = \", max(df499['text_token_num']))"
   ]
  },
  {
   "cell_type": "code",
   "execution_count": 14,
   "id": "b3b157d6-b121-4743-a954-3355f217b691",
   "metadata": {},
   "outputs": [
    {
     "data": {
      "image/png": "[encoded data removed]",
      "text/plain": [
       "<Figure size 500x500 with 1 Axes>"
      ]
     },
     "metadata": {},
     "output_type": "display_data"
    }
   ],
   "source": [
    "sns_dis_499 = sns.displot(df499['text_token_num'])\n",
    "sns_dis_499.savefig('text499_len_dist.pdf')"
   ]
  },
  {
   "cell_type": "code",
   "execution_count": 18,
   "id": "2472404f-22d1-4375-80f8-c58f42a93c78",
   "metadata": {},
   "outputs": [],
   "source": [
    "gen_data = df499[['plain_text_def','plain_text_term']].copy()"
   ]
  },
  {
   "cell_type": "code",
   "execution_count": 19,
   "id": "6d516d9a-6bb9-48ac-8f92-46cdf5b6496a",
   "metadata": {},
   "outputs": [],
   "source": [
    "gen_data = gen_data[-1024:]\n",
    "#gen_data.to_csv('data/test_GPT.csv', index=False)"
   ]
  },
  {
   "cell_type": "code",
   "execution_count": 20,
   "id": "5ba55d35-68fb-4e44-a459-47d2965382aa",
   "metadata": {},
   "outputs": [
    {
     "name": "stdout",
     "output_type": "stream",
     "text": [
      "average length =  69.6083984375\n",
      "maximun length =  418\n"
     ]
    }
   ],
   "source": [
    "gen_texts = gen_data['plain_text_def'].to_list()\n",
    "#check average tokenized sentence lenth\n",
    "gen_text_lenlist = [len(e.split(' ')) for e in gen_texts]\n",
    "print(\"average length = \", sum(gen_text_lenlist) / len(gen_text_lenlist))\n",
    "print(\"maximun length = \", max(gen_text_lenlist))"
   ]
  },
  {
   "cell_type": "code",
   "execution_count": 21,
   "id": "41de1cb9-eef9-4175-90ca-2b16f4a12d1b",
   "metadata": {},
   "outputs": [
    {
     "data": {
      "image/png": "[encoded data removed]",
      "text/plain": [
       "<Figure size 500x500 with 1 Axes>"
      ]
     },
     "metadata": {},
     "output_type": "display_data"
    }
   ],
   "source": [
    "#check length distribution\n",
    "gen_data['text_token_num'] = gen_text_lenlist\n",
    "sns_dis_gen = sns.displot(gen_data['text_token_num'])\n",
    "sns_dis_gen.savefig('text_gen_len_dist.pdf')"
   ]
  },
  {
   "cell_type": "code",
   "execution_count": null,
   "id": "d3372cca-efba-4465-b772-d5752830fa07",
   "metadata": {},
   "outputs": [],
   "source": []
  },
  {
   "cell_type": "markdown",
   "id": "8d5b0ba4-b00f-4d5f-adb2-6d2487e28be0",
   "metadata": {
    "tags": []
   },
   "source": [
    "## Ask ChatGPT-3.5\n"
   ]
  },
  {
   "cell_type": "code",
   "execution_count": null,
   "id": "3e19c774-6bac-477d-8159-d9984d997c6e",
   "metadata": {},
   "outputs": [],
   "source": [
    "openai.api_key_path=\"API_KEY/TheoremKB_Shufan.txt\""
   ]
  },
  {
   "cell_type": "code",
   "execution_count": 30,
   "id": "81746c20-3432-4fc6-9006-4f0f35d9460c",
   "metadata": {},
   "outputs": [],
   "source": [
    "gen_data = pd.read_csv('data/test_GPT.csv')"
   ]
  },
  {
   "cell_type": "code",
   "execution_count": 23,
   "id": "39dd9491-31e5-4f80-9141-97efa985fdc0",
   "metadata": {},
   "outputs": [],
   "source": [
    "response = openai.ChatCompletion.create(\n",
    "    model=\"gpt-3.5-turbo\",\n",
    "    messages=[\n",
    "    {\n",
    "      \"role\": \"system\",\n",
    "      \"content\": \"You will be provided with a block of text that might define one or multiple mathematical terms. Your task is to extract the defined term(s).  For example, the phrase “An interval of _n is called new if it cannot be obtained as the grafting of two intervals” defines “new”. It is possible that the sentence does not contain the defined term. You should only return me the terms that you find, separate the terms with ###.Please do not print anything else.\"\n",
    "    },\n",
    "    {\n",
    "      \"role\": \"user\",\n",
    "      \"content\": \"Given a word w let v be the letters of w to which the\\nthrough strings of the unique w-admissible half-pairing\\nare attached. Then v is a cyclic reduction of w – we\\nshall call it the standard cyclic reduction of w\\nand denote it w.\\n\"\n",
    "    }\n",
    "    ],\n",
    "    temperature=0,\n",
    "    max_tokens=128,\n",
    "    top_p=1,\n",
    "    frequency_penalty=0,\n",
    "    presence_penalty=0\n",
    ")"
   ]
  },
  {
   "cell_type": "code",
   "execution_count": 24,
   "id": "80b6a91a-a37a-46ba-9340-8d293c4ed4d5",
   "metadata": {},
   "outputs": [
    {
     "data": {
      "text/plain": [
       "<OpenAIObject chat.completion id=chatcmpl-7s0fDMpRPIaPCSPcmLQvCjVsrtcpv at 0x7f41304b9ae0> JSON: {\n",
       "  \"id\": \"chatcmpl-7s0fDMpRPIaPCSPcmLQvCjVsrtcpv\",\n",
       "  \"object\": \"chat.completion\",\n",
       "  \"created\": 1693106619,\n",
       "  \"model\": \"gpt-3.5-turbo-0613\",\n",
       "  \"choices\": [\n",
       "    {\n",
       "      \"index\": 0,\n",
       "      \"message\": {\n",
       "        \"role\": \"assistant\",\n",
       "        \"content\": \"cyclic reduction###standard cyclic reduction\"\n",
       "      },\n",
       "      \"finish_reason\": \"stop\"\n",
       "    }\n",
       "  ],\n",
       "  \"usage\": {\n",
       "    \"prompt_tokens\": 165,\n",
       "    \"completion_tokens\": 7,\n",
       "    \"total_tokens\": 172\n",
       "  }\n",
       "}"
      ]
     },
     "execution_count": 24,
     "metadata": {},
     "output_type": "execute_result"
    }
   ],
   "source": [
    "response"
   ]
  },
  {
   "cell_type": "code",
   "execution_count": 20,
   "id": "75ee73c9-d90c-410f-8098-ef6de7aa7ac8",
   "metadata": {},
   "outputs": [
    {
     "data": {
      "text/plain": [
       "'cyclic reduction###standard cyclic reduction'"
      ]
     },
     "execution_count": 20,
     "metadata": {},
     "output_type": "execute_result"
    }
   ],
   "source": [
    "response.to_dict()[\"choices\"][0][\"message\"][\"content\"]"
   ]
  },
  {
   "cell_type": "code",
   "execution_count": 48,
   "id": "4d2e05bd-c2e5-4e77-ae55-d715e99456da",
   "metadata": {},
   "outputs": [],
   "source": [
    "previous_res = pd.read_csv(\"GPT_results/res.csv\")\n",
    "previous_terms_string_list = previous_res['gpt-3.5-turbo terms'].tolist()"
   ]
  },
  {
   "cell_type": "code",
   "execution_count": 49,
   "id": "1f40cabd-6874-4ef8-8459-e3ef8459489d",
   "metadata": {},
   "outputs": [
    {
     "data": {
      "text/plain": [
       "['G-poset###compatibility graph###C_P###vertex set###adjacent###element###comparable###G',\n",
       " 'G-poset###strong compatibility graph###C_P###vertex set###adjacent###element###comparable###e###y###[x]',\n",
       " 'good pair###bad pair',\n",
       " 'multiplicative###probability measures###partitions###sequence###positive numbers###counts###mutually independent###convex combination',\n",
       " 'ergodic###limit shape of partitions',\n",
       " 'simplicial map###simplicial complexes###vertices###simplex###nondegenerate###injective',\n",
       " 'minimal###nondegenerate###locally k-large',\n",
       " 't-uniform###minimal filling diagram###interior vertex###neighbours',\n",
       " 'triangulation###holes###planar double edge###face###edge###disc###cutting along###contains',\n",
       " 'NOA(n,d)###v_1###v_2###v_3###[n]###orthogonal array###symbols###column###array###ℕ',\n",
       " 'exceptional interval-poset###Hasse diagram###configuration###y###z###x',\n",
       " 'new###']"
      ]
     },
     "execution_count": 49,
     "metadata": {},
     "output_type": "execute_result"
    }
   ],
   "source": [
    "previous_terms_string_list"
   ]
  },
  {
   "cell_type": "code",
   "execution_count": 112,
   "id": "31752a78-0318-4e03-bcaf-1af16f3e060c",
   "metadata": {},
   "outputs": [],
   "source": [
    "#terms_string_list = previous_terms_string_list\n",
    "terms_string_list = [] #when start from zero"
   ]
  },
  {
   "cell_type": "code",
   "execution_count": 113,
   "id": "2a090346-a6ff-4126-97af-276db125e611",
   "metadata": {},
   "outputs": [
    {
     "name": "stdout",
     "output_type": "stream",
     "text": [
      "CPU times: user 5.59 s, sys: 237 ms, total: 5.83 s\n",
      "Wall time: 29min 36s\n"
     ]
    }
   ],
   "source": [
    "%%time\n",
    "for def_txt in gen_data['plain_text_def'].tolist():\n",
    "    user_obj = {\n",
    "      \"role\": \"user\",\n",
    "      \"content\": def_txt\n",
    "    }\n",
    "    terms_string=\"\"\n",
    "    response = openai.ChatCompletion.create(\n",
    "        model=\"gpt-4\",#\"gpt-3.5-turbo\",\n",
    "        messages=[\n",
    "        {\n",
    "          \"role\": \"system\",\n",
    "          \"content\": \"You will be provided with a block of text that might define one or multiple mathematical terms. Your task is to extract the defined term(s).  For example, the phrase “An interval of _n is called new if it cannot be obtained as the grafting of two intervals” defines “new”. It is possible that the sentence does not contain the defined term. You should only return me the terms that you find, separate the terms with ###.Please do not print anything else.\"},\n",
    "        user_obj\n",
    "        ],\n",
    "        temperature=0,\n",
    "        max_tokens=128,\n",
    "        top_p=1,\n",
    "        frequency_penalty=0,\n",
    "        presence_penalty=0\n",
    "    )\n",
    "    terms_string = response.to_dict()[\"choices\"][0][\"message\"][\"content\"]\n",
    "    terms_string_list.append(terms_string)"
   ]
  },
  {
   "cell_type": "code",
   "execution_count": 114,
   "id": "b76965d7-daec-44fe-b364-eae035f38d49",
   "metadata": {},
   "outputs": [],
   "source": [
    "df_res = pd.DataFrame(terms_string_list,columns =['gpt-4 terms'])"
   ]
  },
  {
   "cell_type": "code",
   "execution_count": 115,
   "id": "3f8e63ad-968b-4f84-b9ce-c96d9d8068b7",
   "metadata": {},
   "outputs": [],
   "source": [
    "df_res.to_csv(\"GPT_results/gpt-4_res.csv\", index=False)"
   ]
  },
  {
   "cell_type": "code",
   "execution_count": 67,
   "id": "e5eb2879-7ec6-4884-a688-70f077510327",
   "metadata": {},
   "outputs": [
    {
     "data": {
      "text/plain": [
       "0.25088"
      ]
     },
     "execution_count": 67,
     "metadata": {},
     "output_type": "execute_result"
    }
   ],
   "source": [
    "70*1024*0.0035/1000 # prix éstimé pour gpt-3.5-turbo"
   ]
  },
  {
   "cell_type": "code",
   "execution_count": 68,
   "id": "b9ead788-5afc-43c0-b495-88cd2c38c142",
   "metadata": {},
   "outputs": [
    {
     "data": {
      "text/plain": [
       "6.4512"
      ]
     },
     "execution_count": 68,
     "metadata": {},
     "output_type": "execute_result"
    }
   ],
   "source": [
    "70*1024*0.09/1000"
   ]
  },
  {
   "cell_type": "code",
   "execution_count": 70,
   "id": "4ba1ad67-c90d-4b45-b15e-e7a841ed00da",
   "metadata": {},
   "outputs": [
    {
     "data": {
      "text/plain": [
       "10.32192"
      ]
     },
     "execution_count": 70,
     "metadata": {},
     "output_type": "execute_result"
    }
   ],
   "source": [
    "70*1024*0.09/1000 * 0.40 / 0.25 # prix éstimé pour GPT-4"
   ]
  },
  {
   "cell_type": "markdown",
   "id": "0a2723a8-9675-423e-9f0a-87ed89ba33c0",
   "metadata": {},
   "source": [
    "## Calculate the precision and Recall of ChatGPT's annotation"
   ]
  },
  {
   "cell_type": "code",
   "execution_count": 116,
   "id": "5c515543-662e-4f4d-88e2-2827ea906b2d",
   "metadata": {},
   "outputs": [
    {
     "data": {
      "text/html": [
       "<div>\n",
       "<style scoped>\n",
       "    .dataframe tbody tr th:only-of-type {\n",
       "        vertical-align: middle;\n",
       "    }\n",
       "\n",
       "    .dataframe tbody tr th {\n",
       "        vertical-align: top;\n",
       "    }\n",
       "\n",
       "    .dataframe thead th {\n",
       "        text-align: right;\n",
       "    }\n",
       "</style>\n",
       "<table border=\"1\" class=\"dataframe\">\n",
       "  <thead>\n",
       "    <tr style=\"text-align: right;\">\n",
       "      <th></th>\n",
       "      <th>plain_text_def</th>\n",
       "      <th>plain_text_term</th>\n",
       "      <th>gpt-3.5-turbo terms</th>\n",
       "      <th>gpt-4 terms</th>\n",
       "    </tr>\n",
       "  </thead>\n",
       "  <tbody>\n",
       "    <tr>\n",
       "      <th>0</th>\n",
       "      <td>Let P be a G-poset. The compatibility graph of...</td>\n",
       "      <td>Compatibility graph</td>\n",
       "      <td>G-poset###compatibility graph###C_P###vertex s...</td>\n",
       "      <td>compatibility graph</td>\n",
       "    </tr>\n",
       "    <tr>\n",
       "      <th>1</th>\n",
       "      <td>Let P be a G-poset. The strong compatibility g...</td>\n",
       "      <td>Strong compatibility graph</td>\n",
       "      <td>G-poset###strong compatibility graph###C_P###v...</td>\n",
       "      <td>strong compatibility graph</td>\n",
       "    </tr>\n",
       "    <tr>\n",
       "      <th>2</th>\n",
       "      <td>\\nLet p=p_1p_2⋯ p_n be a permutation. \\nWe say...</td>\n",
       "      <td>good pair;bad pair</td>\n",
       "      <td>good pair###bad pair</td>\n",
       "      <td>good pair###bad pair</td>\n",
       "    </tr>\n",
       "    <tr>\n",
       "      <th>3</th>\n",
       "      <td>\\nThe family of probability measures on partit...</td>\n",
       "      <td>multiplicative</td>\n",
       "      <td>multiplicative###probability measures###partit...</td>\n",
       "      <td>multiplicative</td>\n",
       "    </tr>\n",
       "    <tr>\n",
       "      <th>4</th>\n",
       "      <td>\\nWe call a family of measures μ^(n) ergodic i...</td>\n",
       "      <td>ergodic;limit shape</td>\n",
       "      <td>ergodic###limit shape of partitions</td>\n",
       "      <td>ergodic###limit shape of partitions</td>\n",
       "    </tr>\n",
       "    <tr>\n",
       "      <th>...</th>\n",
       "      <td>...</td>\n",
       "      <td>...</td>\n",
       "      <td>...</td>\n",
       "      <td>...</td>\n",
       "    </tr>\n",
       "    <tr>\n",
       "      <th>1019</th>\n",
       "      <td>Consider ⟨ G→ S, α→ A⟩, two adjacent vertices...</td>\n",
       "      <td>preferred direction;special claw corresponding...</td>\n",
       "      <td>special claw###subdivided medial graph</td>\n",
       "      <td>special claw</td>\n",
       "    </tr>\n",
       "    <tr>\n",
       "      <th>1020</th>\n",
       "      <td>\\nAccording to Theorem &lt;ref&gt;, ^d has exactly d...</td>\n",
       "      <td>Cyclicity classes</td>\n",
       "      <td>cyclicity classes###</td>\n",
       "      <td>cyclicity classes</td>\n",
       "    </tr>\n",
       "    <tr>\n",
       "      <th>1021</th>\n",
       "      <td>By Wielandt number we mean the following funct...</td>\n",
       "      <td>Wielandt number</td>\n",
       "      <td>Wielandt number###</td>\n",
       "      <td>Wielandt number</td>\n",
       "    </tr>\n",
       "    <tr>\n",
       "      <th>1022</th>\n",
       "      <td>\\nThe girth of , denoted it by g(),\\nis the sm...</td>\n",
       "      <td>Girth</td>\n",
       "      <td>girth###nonempty cycle</td>\n",
       "      <td>girth</td>\n",
       "    </tr>\n",
       "    <tr>\n",
       "      <th>1023</th>\n",
       "      <td>\\nLet A∈. The cycles of (A) at which the maxim...</td>\n",
       "      <td>Critical graph</td>\n",
       "      <td>critical###nodes###edges###N_c(A)###E_c(A)###c...</td>\n",
       "      <td>critical###N_c(A)###E_c(A)###critical graph</td>\n",
       "    </tr>\n",
       "  </tbody>\n",
       "</table>\n",
       "<p>1024 rows × 4 columns</p>\n",
       "</div>"
      ],
      "text/plain": [
       "                                         plain_text_def  \\\n",
       "0     Let P be a G-poset. The compatibility graph of...   \n",
       "1     Let P be a G-poset. The strong compatibility g...   \n",
       "2     \\nLet p=p_1p_2⋯ p_n be a permutation. \\nWe say...   \n",
       "3     \\nThe family of probability measures on partit...   \n",
       "4     \\nWe call a family of measures μ^(n) ergodic i...   \n",
       "...                                                 ...   \n",
       "1019   Consider ⟨ G→ S, α→ A⟩, two adjacent vertices...   \n",
       "1020  \\nAccording to Theorem <ref>, ^d has exactly d...   \n",
       "1021  By Wielandt number we mean the following funct...   \n",
       "1022  \\nThe girth of , denoted it by g(),\\nis the sm...   \n",
       "1023  \\nLet A∈. The cycles of (A) at which the maxim...   \n",
       "\n",
       "                                        plain_text_term  \\\n",
       "0                                   Compatibility graph   \n",
       "1                            Strong compatibility graph   \n",
       "2                                    good pair;bad pair   \n",
       "3                                        multiplicative   \n",
       "4                                   ergodic;limit shape   \n",
       "...                                                 ...   \n",
       "1019  preferred direction;special claw corresponding...   \n",
       "1020                                  Cyclicity classes   \n",
       "1021                                    Wielandt number   \n",
       "1022                                              Girth   \n",
       "1023                                     Critical graph   \n",
       "\n",
       "                                    gpt-3.5-turbo terms  \\\n",
       "0     G-poset###compatibility graph###C_P###vertex s...   \n",
       "1     G-poset###strong compatibility graph###C_P###v...   \n",
       "2                                  good pair###bad pair   \n",
       "3     multiplicative###probability measures###partit...   \n",
       "4                   ergodic###limit shape of partitions   \n",
       "...                                                 ...   \n",
       "1019             special claw###subdivided medial graph   \n",
       "1020                               cyclicity classes###   \n",
       "1021                                 Wielandt number###   \n",
       "1022                             girth###nonempty cycle   \n",
       "1023  critical###nodes###edges###N_c(A)###E_c(A)###c...   \n",
       "\n",
       "                                      gpt-4 terms  \n",
       "0                             compatibility graph  \n",
       "1                      strong compatibility graph  \n",
       "2                            good pair###bad pair  \n",
       "3                                  multiplicative  \n",
       "4             ergodic###limit shape of partitions  \n",
       "...                                           ...  \n",
       "1019                                 special claw  \n",
       "1020                            cyclicity classes  \n",
       "1021                              Wielandt number  \n",
       "1022                                        girth  \n",
       "1023  critical###N_c(A)###E_c(A)###critical graph  \n",
       "\n",
       "[1024 rows x 4 columns]"
      ]
     },
     "execution_count": 116,
     "metadata": {},
     "output_type": "execute_result"
    }
   ],
   "source": [
    "gen_data['gpt-4 terms'] = df_res['gpt-4 terms']\n",
    "gen_data"
   ]
  },
  {
   "cell_type": "code",
   "execution_count": 117,
   "id": "23d6bfb1-86c2-4724-97f9-8a1b68ac5991",
   "metadata": {},
   "outputs": [],
   "source": [
    "eval_list = []\n",
    "for index, row in gen_data.iterrows():\n",
    "\n",
    "    #let's remove repeated terms in both lists, as our definitum detection requires high recall\n",
    "    expected_set = set(row['plain_text_term'].split(';'))\n",
    "    if '' in expected_set:\n",
    "        expected_set.remove('')\n",
    "    \n",
    "    extracted_set = set(row['gpt-4 terms'].split('###'))\n",
    "    if '' in extracted_set:\n",
    "        extracted_set.remove('')\n",
    "    \n",
    "    num_TP = 0\n",
    "    num_too_long = 0\n",
    "    num_cut_off = 0\n",
    "    for expected in expected_set:\n",
    "        for extracted in extracted_set:\n",
    "            if extracted.casefold() == expected.casefold():\n",
    "                num_TP = num_TP + 1\n",
    "            elif extracted.casefold() in expected.casefold():\n",
    "                num_cut_off = num_cut_off + 1\n",
    "            elif expected.casefold() in extracted.casefold():\n",
    "                num_too_long = num_too_long + 1\n",
    "    \n",
    "    eval_list.append({'True Term Num' : len(expected_set),\n",
    "                        'Extracted Term Num': len(extracted_set),\n",
    "                        'TP': num_TP,\n",
    "                        'Cut Off': num_cut_off,\n",
    "                        'Too Long': num_too_long})"
   ]
  },
  {
   "cell_type": "code",
   "execution_count": 119,
   "id": "1cc693a3-581b-4e47-a583-854be9d551c2",
   "metadata": {},
   "outputs": [
    {
     "data": {
      "text/html": [
       "<div>\n",
       "<style scoped>\n",
       "    .dataframe tbody tr th:only-of-type {\n",
       "        vertical-align: middle;\n",
       "    }\n",
       "\n",
       "    .dataframe tbody tr th {\n",
       "        vertical-align: top;\n",
       "    }\n",
       "\n",
       "    .dataframe thead th {\n",
       "        text-align: right;\n",
       "    }\n",
       "</style>\n",
       "<table border=\"1\" class=\"dataframe\">\n",
       "  <thead>\n",
       "    <tr style=\"text-align: right;\">\n",
       "      <th></th>\n",
       "      <th>True Term Num</th>\n",
       "      <th>Extracted Term Num</th>\n",
       "      <th>TP</th>\n",
       "      <th>Cut Off</th>\n",
       "      <th>Too Long</th>\n",
       "    </tr>\n",
       "  </thead>\n",
       "  <tbody>\n",
       "    <tr>\n",
       "      <th>0</th>\n",
       "      <td>1</td>\n",
       "      <td>1</td>\n",
       "      <td>1</td>\n",
       "      <td>0</td>\n",
       "      <td>0</td>\n",
       "    </tr>\n",
       "    <tr>\n",
       "      <th>1</th>\n",
       "      <td>1</td>\n",
       "      <td>1</td>\n",
       "      <td>1</td>\n",
       "      <td>0</td>\n",
       "      <td>0</td>\n",
       "    </tr>\n",
       "    <tr>\n",
       "      <th>2</th>\n",
       "      <td>2</td>\n",
       "      <td>2</td>\n",
       "      <td>2</td>\n",
       "      <td>0</td>\n",
       "      <td>0</td>\n",
       "    </tr>\n",
       "    <tr>\n",
       "      <th>3</th>\n",
       "      <td>1</td>\n",
       "      <td>1</td>\n",
       "      <td>1</td>\n",
       "      <td>0</td>\n",
       "      <td>0</td>\n",
       "    </tr>\n",
       "    <tr>\n",
       "      <th>4</th>\n",
       "      <td>2</td>\n",
       "      <td>2</td>\n",
       "      <td>1</td>\n",
       "      <td>0</td>\n",
       "      <td>1</td>\n",
       "    </tr>\n",
       "    <tr>\n",
       "      <th>...</th>\n",
       "      <td>...</td>\n",
       "      <td>...</td>\n",
       "      <td>...</td>\n",
       "      <td>...</td>\n",
       "      <td>...</td>\n",
       "    </tr>\n",
       "    <tr>\n",
       "      <th>1019</th>\n",
       "      <td>2</td>\n",
       "      <td>1</td>\n",
       "      <td>0</td>\n",
       "      <td>1</td>\n",
       "      <td>0</td>\n",
       "    </tr>\n",
       "    <tr>\n",
       "      <th>1020</th>\n",
       "      <td>1</td>\n",
       "      <td>1</td>\n",
       "      <td>1</td>\n",
       "      <td>0</td>\n",
       "      <td>0</td>\n",
       "    </tr>\n",
       "    <tr>\n",
       "      <th>1021</th>\n",
       "      <td>1</td>\n",
       "      <td>1</td>\n",
       "      <td>1</td>\n",
       "      <td>0</td>\n",
       "      <td>0</td>\n",
       "    </tr>\n",
       "    <tr>\n",
       "      <th>1022</th>\n",
       "      <td>1</td>\n",
       "      <td>1</td>\n",
       "      <td>1</td>\n",
       "      <td>0</td>\n",
       "      <td>0</td>\n",
       "    </tr>\n",
       "    <tr>\n",
       "      <th>1023</th>\n",
       "      <td>1</td>\n",
       "      <td>4</td>\n",
       "      <td>1</td>\n",
       "      <td>1</td>\n",
       "      <td>0</td>\n",
       "    </tr>\n",
       "  </tbody>\n",
       "</table>\n",
       "<p>1024 rows × 5 columns</p>\n",
       "</div>"
      ],
      "text/plain": [
       "      True Term Num  Extracted Term Num  TP  Cut Off  Too Long\n",
       "0                 1                   1   1        0         0\n",
       "1                 1                   1   1        0         0\n",
       "2                 2                   2   2        0         0\n",
       "3                 1                   1   1        0         0\n",
       "4                 2                   2   1        0         1\n",
       "...             ...                 ...  ..      ...       ...\n",
       "1019              2                   1   0        1         0\n",
       "1020              1                   1   1        0         0\n",
       "1021              1                   1   1        0         0\n",
       "1022              1                   1   1        0         0\n",
       "1023              1                   4   1        1         0\n",
       "\n",
       "[1024 rows x 5 columns]"
      ]
     },
     "execution_count": 119,
     "metadata": {},
     "output_type": "execute_result"
    }
   ],
   "source": [
    "df_eval = pd.DataFrame(eval_list)\n",
    "df_eval"
   ]
  },
  {
   "cell_type": "code",
   "execution_count": 120,
   "id": "2dbc9ecb-f2d5-439d-99d2-6282e20521e3",
   "metadata": {},
   "outputs": [
    {
     "data": {
      "text/plain": [
       "846"
      ]
     },
     "execution_count": 120,
     "metadata": {},
     "output_type": "execute_result"
    }
   ],
   "source": [
    "df_eval['TP'].sum()"
   ]
  },
  {
   "cell_type": "code",
   "execution_count": 121,
   "id": "5d9a1879-5d57-4971-91d6-55d35b1c7c86",
   "metadata": {},
   "outputs": [
    {
     "data": {
      "text/plain": [
       "1616"
      ]
     },
     "execution_count": 121,
     "metadata": {},
     "output_type": "execute_result"
    }
   ],
   "source": [
    "df_eval['True Term Num'].sum()"
   ]
  },
  {
   "cell_type": "code",
   "execution_count": 122,
   "id": "207f8855-0cc7-4a00-83b3-0bfe9f6c80d4",
   "metadata": {},
   "outputs": [
    {
     "data": {
      "text/plain": [
       "2245"
      ]
     },
     "execution_count": 122,
     "metadata": {},
     "output_type": "execute_result"
    }
   ],
   "source": [
    "df_eval['Extracted Term Num'].sum() "
   ]
  },
  {
   "cell_type": "code",
   "execution_count": 123,
   "id": "1aabfa0d-8b20-4bcf-9ab3-83f46a2a2dda",
   "metadata": {},
   "outputs": [
    {
     "data": {
      "text/plain": [
       "0.37683741648106905"
      ]
     },
     "execution_count": 123,
     "metadata": {},
     "output_type": "execute_result"
    }
   ],
   "source": [
    "# precision /correct rate\n",
    "846 / 2245"
   ]
  },
  {
   "cell_type": "code",
   "execution_count": 124,
   "id": "4cbe0755-3cad-40f0-99f8-cea24df83cf3",
   "metadata": {},
   "outputs": [
    {
     "data": {
      "text/plain": [
       "0.5235148514851485"
      ]
     },
     "execution_count": 124,
     "metadata": {},
     "output_type": "execute_result"
    }
   ],
   "source": [
    "# recall\n",
    "846 / 1616"
   ]
  },
  {
   "cell_type": "code",
   "execution_count": 125,
   "id": "5febb9c5-7df2-4698-94fd-f10feaba8464",
   "metadata": {},
   "outputs": [
    {
     "data": {
      "text/plain": [
       "0.30779510022271717"
      ]
     },
     "execution_count": 125,
     "metadata": {},
     "output_type": "execute_result"
    }
   ],
   "source": [
    "# too long rate \n",
    "df_eval['Too Long'].sum() / 2245"
   ]
  },
  {
   "cell_type": "code",
   "execution_count": 126,
   "id": "52db8df0-6da3-4df8-987c-1e0fbeb99713",
   "metadata": {},
   "outputs": [
    {
     "data": {
      "text/plain": [
       "0.055233853006681516"
      ]
     },
     "execution_count": 126,
     "metadata": {},
     "output_type": "execute_result"
    }
   ],
   "source": [
    "# cut off rate \n",
    "df_eval['Cut Off'].sum() / 2245"
   ]
  },
  {
   "cell_type": "code",
   "execution_count": 127,
   "id": "786e812c-9580-45c1-83f3-07513c1ff0c1",
   "metadata": {},
   "outputs": [],
   "source": [
    "pd.concat([gen_data, df_eval], axis=1).to_csv('GPT_results/gpt-4_res+eval.csv', index=False)"
   ]
  },
  {
   "cell_type": "markdown",
   "id": "06bb47f2-fd10-4865-9cbd-2ce4429d9e14",
   "metadata": {},
   "source": [
    "## Correct eval"
   ]
  },
  {
   "cell_type": "code",
   "execution_count": 5,
   "id": "b6ca6bcb-9420-47b6-be1d-14ed7586293c",
   "metadata": {},
   "outputs": [],
   "source": [
    "#df_res = pd.read_csv('GPT_results/gpt-4_res+eval.csv')\n",
    "df_res = pd.read_csv('GPT_results/Human_corrected_annotations+gpt_res.csv')\n",
    "\n",
    "eval_list =[]\n",
    "\n",
    "for index, row in df_res.iterrows():\n",
    "\n",
    "    #let's remove repeated terms, keeping 1616 unique out of 1660 terms\n",
    "    expected_list = set(row['plain_text_term'].split(';'))\n",
    "    while '' in expected_list:\n",
    "        expected_list.remove('')\n",
    "\n",
    "    extracted_string = row['gpt-4 terms']#['gpt-3.5-turbo terms']\n",
    "    if extracted_string != extracted_string: #nan\n",
    "        extracted_list = []\n",
    "    else:\n",
    "        extracted_list = extracted_string.split('###')\n",
    "        extracted_list = [x.strip() for x in extracted_list] \n",
    "        while '' in extracted_list:\n",
    "            extracted_list.remove('')\n",
    "    \n",
    "    num_TP = 0\n",
    "    num_too_long = 0\n",
    "    num_cut_off = 0\n",
    "    num_split_term = 0\n",
    "    TP_list = []\n",
    "    ST_list = [] \n",
    "    \n",
    "    for expected in expected_list:\n",
    "        for extracted in extracted_list:\n",
    "            \n",
    "            if extracted.casefold() == expected.casefold():\n",
    "                num_TP = num_TP + 1\n",
    "                TP_list.append(expected)\n",
    "            elif extracted.casefold() in expected.casefold():\n",
    "                num_cut_off = num_cut_off + 1\n",
    "            elif expected.casefold() in extracted.casefold():\n",
    "                num_too_long = num_too_long + 1\n",
    "                \n",
    "        expected_no_space = expected.replace(\" \",\"\")\n",
    "        extracted_no_space = (\"\".join(extracted_list)).replace(\" \",\"\")\n",
    "        if expected_no_space.casefold() in extracted_no_space.casefold(): # including TPs\n",
    "            num_split_term = num_split_term + 1\n",
    "            ST_list.append(expected)\n",
    "    \n",
    "    num_TP = num_TP - (len(TP_list) - len(set(TP_list)))\n",
    "    num_split_term = num_split_term - (len(ST_list) -len(set(ST_list)))\n",
    "    \n",
    "    eval_list.append({'True Term Num' : len(expected_list),\n",
    "                        'Extracted Term Num': len(extracted_list),\n",
    "                        'TP': num_TP,\n",
    "                        'Cut Off': num_cut_off,\n",
    "                        'Too Long': num_too_long,\n",
    "                        'Split Term': num_split_term})\n",
    "df_eval = pd.DataFrame(eval_list)\n",
    "df_eval['expected'] = df_res['plain_text_term']\n",
    "df_eval['extracted'] = df_res['gpt-4 terms']\n",
    "\n",
    "df_eval.to_csv('GPT_results/gpt-3.5-turbo_res+eval+ST_corrected.csv', index=False)\n",
    "#df_eval.to_csv('GPT_results/gpt-3.5-turbo_res+eval+ST.csv', index=False)"
   ]
  },
  {
   "cell_type": "code",
   "execution_count": 3,
   "id": "c6fe7d91-cab3-4c3c-8a6d-fb0a488d443f",
   "metadata": {},
   "outputs": [
    {
     "data": {
      "text/html": [
       "<div>\n",
       "<style scoped>\n",
       "    .dataframe tbody tr th:only-of-type {\n",
       "        vertical-align: middle;\n",
       "    }\n",
       "\n",
       "    .dataframe tbody tr th {\n",
       "        vertical-align: top;\n",
       "    }\n",
       "\n",
       "    .dataframe thead th {\n",
       "        text-align: right;\n",
       "    }\n",
       "</style>\n",
       "<table border=\"1\" class=\"dataframe\">\n",
       "  <thead>\n",
       "    <tr style=\"text-align: right;\">\n",
       "      <th></th>\n",
       "      <th>plain_text_def</th>\n",
       "      <th>plain_text_term</th>\n",
       "      <th>gpt-3.5-turbo terms</th>\n",
       "      <th>gpt-4 terms</th>\n",
       "    </tr>\n",
       "  </thead>\n",
       "  <tbody>\n",
       "    <tr>\n",
       "      <th>0</th>\n",
       "      <td>Let P be a G-poset. The compatibility graph of...</td>\n",
       "      <td>Compatibility graph</td>\n",
       "      <td>G-poset###compatibility graph###C_P###vertex s...</td>\n",
       "      <td>compatibility graph</td>\n",
       "    </tr>\n",
       "    <tr>\n",
       "      <th>1</th>\n",
       "      <td>Let P be a G-poset. The strong compatibility g...</td>\n",
       "      <td>Strong compatibility graph</td>\n",
       "      <td>G-poset###strong compatibility graph###C_P###v...</td>\n",
       "      <td>strong compatibility graph</td>\n",
       "    </tr>\n",
       "    <tr>\n",
       "      <th>2</th>\n",
       "      <td>\\nLet p=p_1p_2⋯ p_n be a permutation. \\nWe say...</td>\n",
       "      <td>good pair;bad pair</td>\n",
       "      <td>good pair###bad pair</td>\n",
       "      <td>good pair###bad pair</td>\n",
       "    </tr>\n",
       "    <tr>\n",
       "      <th>3</th>\n",
       "      <td>\\nThe family of probability measures on partit...</td>\n",
       "      <td>multiplicative</td>\n",
       "      <td>multiplicative###probability measures###partit...</td>\n",
       "      <td>multiplicative</td>\n",
       "    </tr>\n",
       "    <tr>\n",
       "      <th>4</th>\n",
       "      <td>\\nWe call a family of measures μ^(n) ergodic i...</td>\n",
       "      <td>ergodic;limit shape</td>\n",
       "      <td>ergodic###limit shape of partitions</td>\n",
       "      <td>ergodic###limit shape of partitions</td>\n",
       "    </tr>\n",
       "    <tr>\n",
       "      <th>...</th>\n",
       "      <td>...</td>\n",
       "      <td>...</td>\n",
       "      <td>...</td>\n",
       "      <td>...</td>\n",
       "    </tr>\n",
       "    <tr>\n",
       "      <th>994</th>\n",
       "      <td>Consider ⟨ G→ S, α→ A⟩, two adjacent vertices...</td>\n",
       "      <td>preferred direction;special claw corresponding...</td>\n",
       "      <td>special claw###subdivided medial graph</td>\n",
       "      <td>special claw</td>\n",
       "    </tr>\n",
       "    <tr>\n",
       "      <th>995</th>\n",
       "      <td>\\nAccording to Theorem &lt;ref&gt;, ^d has exactly d...</td>\n",
       "      <td>Cyclicity classes</td>\n",
       "      <td>cyclicity classes###</td>\n",
       "      <td>cyclicity classes</td>\n",
       "    </tr>\n",
       "    <tr>\n",
       "      <th>996</th>\n",
       "      <td>By Wielandt number we mean the following funct...</td>\n",
       "      <td>Wielandt number</td>\n",
       "      <td>Wielandt number###</td>\n",
       "      <td>Wielandt number</td>\n",
       "    </tr>\n",
       "    <tr>\n",
       "      <th>997</th>\n",
       "      <td>\\nThe girth of , denoted it by g(),\\nis the sm...</td>\n",
       "      <td>Girth</td>\n",
       "      <td>girth###nonempty cycle</td>\n",
       "      <td>girth</td>\n",
       "    </tr>\n",
       "    <tr>\n",
       "      <th>998</th>\n",
       "      <td>\\nLet A∈. The cycles of (A) at which the maxim...</td>\n",
       "      <td>Critical graph</td>\n",
       "      <td>critical###nodes###edges###N_c(A)###E_c(A)###c...</td>\n",
       "      <td>critical###N_c(A)###E_c(A)###critical graph</td>\n",
       "    </tr>\n",
       "  </tbody>\n",
       "</table>\n",
       "<p>999 rows × 4 columns</p>\n",
       "</div>"
      ],
      "text/plain": [
       "                                        plain_text_def  \\\n",
       "0    Let P be a G-poset. The compatibility graph of...   \n",
       "1    Let P be a G-poset. The strong compatibility g...   \n",
       "2    \\nLet p=p_1p_2⋯ p_n be a permutation. \\nWe say...   \n",
       "3    \\nThe family of probability measures on partit...   \n",
       "4    \\nWe call a family of measures μ^(n) ergodic i...   \n",
       "..                                                 ...   \n",
       "994   Consider ⟨ G→ S, α→ A⟩, two adjacent vertices...   \n",
       "995  \\nAccording to Theorem <ref>, ^d has exactly d...   \n",
       "996  By Wielandt number we mean the following funct...   \n",
       "997  \\nThe girth of , denoted it by g(),\\nis the sm...   \n",
       "998  \\nLet A∈. The cycles of (A) at which the maxim...   \n",
       "\n",
       "                                       plain_text_term  \\\n",
       "0                                  Compatibility graph   \n",
       "1                           Strong compatibility graph   \n",
       "2                                   good pair;bad pair   \n",
       "3                                       multiplicative   \n",
       "4                                  ergodic;limit shape   \n",
       "..                                                 ...   \n",
       "994  preferred direction;special claw corresponding...   \n",
       "995                                  Cyclicity classes   \n",
       "996                                    Wielandt number   \n",
       "997                                              Girth   \n",
       "998                                     Critical graph   \n",
       "\n",
       "                                   gpt-3.5-turbo terms  \\\n",
       "0    G-poset###compatibility graph###C_P###vertex s...   \n",
       "1    G-poset###strong compatibility graph###C_P###v...   \n",
       "2                                 good pair###bad pair   \n",
       "3    multiplicative###probability measures###partit...   \n",
       "4                  ergodic###limit shape of partitions   \n",
       "..                                                 ...   \n",
       "994             special claw###subdivided medial graph   \n",
       "995                               cyclicity classes###   \n",
       "996                                 Wielandt number###   \n",
       "997                             girth###nonempty cycle   \n",
       "998  critical###nodes###edges###N_c(A)###E_c(A)###c...   \n",
       "\n",
       "                                     gpt-4 terms  \n",
       "0                            compatibility graph  \n",
       "1                     strong compatibility graph  \n",
       "2                           good pair###bad pair  \n",
       "3                                 multiplicative  \n",
       "4            ergodic###limit shape of partitions  \n",
       "..                                           ...  \n",
       "994                                 special claw  \n",
       "995                            cyclicity classes  \n",
       "996                              Wielandt number  \n",
       "997                                        girth  \n",
       "998  critical###N_c(A)###E_c(A)###critical graph  \n",
       "\n",
       "[999 rows x 4 columns]"
      ]
     },
     "execution_count": 3,
     "metadata": {},
     "output_type": "execute_result"
    }
   ],
   "source": [
    "df_res"
   ]
  },
  {
   "cell_type": "markdown",
   "id": "9ffa9c2a-486a-412f-81e2-069029bbd97c",
   "metadata": {},
   "source": [
    "### GPT4"
   ]
  },
  {
   "cell_type": "code",
   "execution_count": 6,
   "id": "117bb2cc-83bd-415c-96b3-d6d0e23738f0",
   "metadata": {},
   "outputs": [
    {
     "name": "stdout",
     "output_type": "stream",
     "text": [
      "True Term Num: 1552\n",
      "Extracted Term Num: 2191\n",
      "True Positive: 945\n",
      "True Positive + split term: 1369\n",
      "Too Long: 573\n",
      "Cut Off: 137\n",
      "precision /correct rate: 0.6248288452761296\n",
      "recall: 0.8820876288659794\n"
     ]
    }
   ],
   "source": [
    "num_T = df_eval['True Term Num'].sum()\n",
    "print(\"True Term Num: \" + str(num_T))\n",
    "num_Ex = df_eval['Extracted Term Num'].sum()\n",
    "print(\"Extracted Term Num: \" + str(num_Ex))\n",
    "print(\"True Positive: \" + str(df_eval['TP'].sum()))\n",
    "num_ST = df_eval['Split Term'].sum()\n",
    "print(\"True Positive + split term: \" + str(num_ST))\n",
    "print(\"Too Long: \" + str(df_eval['Too Long'].sum()))\n",
    "print(\"Cut Off: \" + str(df_eval['Cut Off'].sum()))\n",
    "print(\"precision /correct rate: \" + str(num_ST / num_Ex))\n",
    "print(\"recall: \" + str(num_ST / num_T))"
   ]
  },
  {
   "cell_type": "code",
   "execution_count": 1,
   "id": "070b7e6e-99c4-4b2c-9805-7f4ea7541131",
   "metadata": {},
   "outputs": [
    {
     "data": {
      "text/plain": [
       "0.7314987977558107"
      ]
     },
     "execution_count": 1,
     "metadata": {},
     "output_type": "execute_result"
    }
   ],
   "source": [
    "# GPT-4\n",
    "p = 0.6248288452761296\n",
    "r = 0.8820876288659794\n",
    "2 * p * r / (p + r)"
   ]
  },
  {
   "cell_type": "markdown",
   "id": "d1398125-98dc-4896-9698-038c5b017440",
   "metadata": {},
   "source": [
    "### GPT3.5-turbo"
   ]
  },
  {
   "cell_type": "code",
   "execution_count": 4,
   "id": "3288c0fd-a3fe-4ab0-9473-348f3fc7b0c6",
   "metadata": {},
   "outputs": [
    {
     "name": "stdout",
     "output_type": "stream",
     "text": [
      "True Term Num: 1552\n",
      "Extracted Term Num: 6687\n",
      "True Positive: 1071\n",
      "True Positive + split term: 1290\n",
      "Too Long: 338\n",
      "Cut Off: 653\n",
      "precision /correct rate: 0.19291161956034095\n",
      "recall: 0.8311855670103093\n"
     ]
    }
   ],
   "source": [
    "num_T = df_eval['True Term Num'].sum()\n",
    "print(\"True Term Num: \" + str(num_T))\n",
    "num_Ex = df_eval['Extracted Term Num'].sum()\n",
    "print(\"Extracted Term Num: \" + str(num_Ex))\n",
    "print(\"True Positive: \" + str(df_eval['TP'].sum()))\n",
    "num_ST = df_eval['Split Term'].sum()\n",
    "print(\"True Positive + split term: \" + str(num_ST))\n",
    "print(\"Too Long: \" + str(df_eval['Too Long'].sum()))\n",
    "print(\"Cut Off: \" + str(df_eval['Cut Off'].sum()))\n",
    "print(\"precision /correct rate: \" + str(num_ST / num_Ex))\n",
    "print(\"recall: \" + str(num_ST / num_T))"
   ]
  },
  {
   "cell_type": "code",
   "execution_count": 7,
   "id": "cfb67237-2052-46c5-9ec0-a332afdd1224",
   "metadata": {},
   "outputs": [
    {
     "data": {
      "text/plain": [
       "0.31314479912610754"
      ]
     },
     "execution_count": 7,
     "metadata": {},
     "output_type": "execute_result"
    }
   ],
   "source": [
    "# GPT-3.5\n",
    "p = 0.19291161956034095\n",
    "r = 0.8311855670103093\n",
    "2 * p * r / (p + r)"
   ]
  },
  {
   "cell_type": "code",
   "execution_count": null,
   "id": "3eed6f99-c66c-4a6f-ad15-084f5c0d4172",
   "metadata": {},
   "outputs": [],
   "source": []
  }
 ],
 "metadata": {
  "kernelspec": {
   "display_name": "Python 3 (ipykernel)",
   "language": "python",
   "name": "python3"
  },
  "language_info": {
   "codemirror_mode": {
    "name": "ipython",
    "version": 3
   },
   "file_extension": ".py",
   "mimetype": "text/x-python",
   "name": "python",
   "nbconvert_exporter": "python",
   "pygments_lexer": "ipython3",
   "version": "3.8.16"
  }
 },
 "nbformat": 4,
 "nbformat_minor": 5
}
